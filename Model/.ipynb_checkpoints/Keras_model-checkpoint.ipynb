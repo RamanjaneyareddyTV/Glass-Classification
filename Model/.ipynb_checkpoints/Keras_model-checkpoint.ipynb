{
 "cells": [
  {
   "cell_type": "markdown",
   "metadata": {},
   "source": [
    "# Project - Glass Classification"
   ]
  },
  {
   "cell_type": "markdown",
   "metadata": {},
   "source": [
    "### After using the ML classifiers, now we are going to build a Keras Sequential model to check whether it perfroms better than the Random Forest Classifier. "
   ]
  },
  {
   "cell_type": "code",
   "execution_count": 1,
   "metadata": {},
   "outputs": [],
   "source": [
    "import pandas as pd\n",
    "import numpy as np\n",
    "import matplotlib.pyplot as plt\n",
    "import tensorflow as tf\n",
    "from tensorflow.keras.preprocessing.image import ImageDataGenerator\n",
    "from tensorflow.keras.optimizers import Adam\n",
    "from tensorflow.keras.utils import to_categorical, normalize\n",
    "from sklearn.model_selection import train_test_split\n",
    "from sklearn.metrics import confusion_matrix"
   ]
  },
  {
   "cell_type": "code",
   "execution_count": 2,
   "metadata": {},
   "outputs": [
    {
     "data": {
      "text/html": [
       "<div>\n",
       "<style scoped>\n",
       "    .dataframe tbody tr th:only-of-type {\n",
       "        vertical-align: middle;\n",
       "    }\n",
       "\n",
       "    .dataframe tbody tr th {\n",
       "        vertical-align: top;\n",
       "    }\n",
       "\n",
       "    .dataframe thead th {\n",
       "        text-align: right;\n",
       "    }\n",
       "</style>\n",
       "<table border=\"1\" class=\"dataframe\">\n",
       "  <thead>\n",
       "    <tr style=\"text-align: right;\">\n",
       "      <th></th>\n",
       "      <th>RI</th>\n",
       "      <th>Na</th>\n",
       "      <th>Mg</th>\n",
       "      <th>Al</th>\n",
       "      <th>Si</th>\n",
       "      <th>K</th>\n",
       "      <th>Ca</th>\n",
       "      <th>Ba</th>\n",
       "      <th>Fe</th>\n",
       "      <th>Type</th>\n",
       "    </tr>\n",
       "  </thead>\n",
       "  <tbody>\n",
       "    <tr>\n",
       "      <th>0</th>\n",
       "      <td>1.52101</td>\n",
       "      <td>13.64</td>\n",
       "      <td>4.49</td>\n",
       "      <td>1.10</td>\n",
       "      <td>71.78</td>\n",
       "      <td>0.06</td>\n",
       "      <td>8.75</td>\n",
       "      <td>0.0</td>\n",
       "      <td>0.0</td>\n",
       "      <td>1</td>\n",
       "    </tr>\n",
       "    <tr>\n",
       "      <th>1</th>\n",
       "      <td>1.51761</td>\n",
       "      <td>13.89</td>\n",
       "      <td>3.60</td>\n",
       "      <td>1.36</td>\n",
       "      <td>72.73</td>\n",
       "      <td>0.48</td>\n",
       "      <td>7.83</td>\n",
       "      <td>0.0</td>\n",
       "      <td>0.0</td>\n",
       "      <td>1</td>\n",
       "    </tr>\n",
       "    <tr>\n",
       "      <th>2</th>\n",
       "      <td>1.51618</td>\n",
       "      <td>13.53</td>\n",
       "      <td>3.55</td>\n",
       "      <td>1.54</td>\n",
       "      <td>72.99</td>\n",
       "      <td>0.39</td>\n",
       "      <td>7.78</td>\n",
       "      <td>0.0</td>\n",
       "      <td>0.0</td>\n",
       "      <td>1</td>\n",
       "    </tr>\n",
       "    <tr>\n",
       "      <th>3</th>\n",
       "      <td>1.51766</td>\n",
       "      <td>13.21</td>\n",
       "      <td>3.69</td>\n",
       "      <td>1.29</td>\n",
       "      <td>72.61</td>\n",
       "      <td>0.57</td>\n",
       "      <td>8.22</td>\n",
       "      <td>0.0</td>\n",
       "      <td>0.0</td>\n",
       "      <td>1</td>\n",
       "    </tr>\n",
       "    <tr>\n",
       "      <th>4</th>\n",
       "      <td>1.51742</td>\n",
       "      <td>13.27</td>\n",
       "      <td>3.62</td>\n",
       "      <td>1.24</td>\n",
       "      <td>73.08</td>\n",
       "      <td>0.55</td>\n",
       "      <td>8.07</td>\n",
       "      <td>0.0</td>\n",
       "      <td>0.0</td>\n",
       "      <td>1</td>\n",
       "    </tr>\n",
       "  </tbody>\n",
       "</table>\n",
       "</div>"
      ],
      "text/plain": [
       "        RI     Na    Mg    Al     Si     K    Ca   Ba   Fe  Type\n",
       "0  1.52101  13.64  4.49  1.10  71.78  0.06  8.75  0.0  0.0     1\n",
       "1  1.51761  13.89  3.60  1.36  72.73  0.48  7.83  0.0  0.0     1\n",
       "2  1.51618  13.53  3.55  1.54  72.99  0.39  7.78  0.0  0.0     1\n",
       "3  1.51766  13.21  3.69  1.29  72.61  0.57  8.22  0.0  0.0     1\n",
       "4  1.51742  13.27  3.62  1.24  73.08  0.55  8.07  0.0  0.0     1"
      ]
     },
     "execution_count": 2,
     "metadata": {},
     "output_type": "execute_result"
    }
   ],
   "source": [
    "df = pd.read_csv(r'D:\\New folder\\Glass Classification\\Dataset\\glass.csv')\n",
    "df.head()"
   ]
  },
  {
   "cell_type": "markdown",
   "metadata": {},
   "source": [
    "### Data Pre-processing"
   ]
  },
  {
   "cell_type": "code",
   "execution_count": 3,
   "metadata": {},
   "outputs": [],
   "source": [
    "X_train = df.drop('Type', axis = 1)\n",
    "y_train = df['Type']"
   ]
  },
  {
   "cell_type": "code",
   "execution_count": 4,
   "metadata": {},
   "outputs": [
    {
     "data": {
      "image/png": "[encoded data removed]",
      "text/plain": [
       "<Figure size 432x288 with 1 Axes>"
      ]
     },
     "metadata": {
      "needs_background": "light"
     },
     "output_type": "display_data"
    }
   ],
   "source": [
    "glass_classes = y_train.unique()\n",
    "values = y_train.value_counts()\n",
    "\n",
    "plt.bar(glass_classes, values)\n",
    "plt.title('Train set')\n",
    "plt.xlabel('Glass Classes')\n",
    "plt.ylabel('Examples count')\n",
    "plt.show()"
   ]
  },
  {
   "cell_type": "code",
   "execution_count": 5,
   "metadata": {},
   "outputs": [
    {
     "name": "stdout",
     "output_type": "stream",
     "text": [
      "[2.06227172e-02 1.84938864e-01 6.08779693e-02 1.49144245e-02\n",
      " 9.73233994e-01 8.13514066e-04 1.18637468e-01 0.00000000e+00\n",
      " 0.00000000e+00 1.35585678e-02]\n"
     ]
    }
   ],
   "source": [
    "X_train = df.values\n",
    "X_train = normalize(X_train)\n",
    "print(X_train[0])"
   ]
  },
  {
   "cell_type": "code",
   "execution_count": 6,
   "metadata": {},
   "outputs": [
    {
     "data": {
      "text/plain": [
       "(214, 8)"
      ]
     },
     "execution_count": 6,
     "metadata": {},
     "output_type": "execute_result"
    }
   ],
   "source": [
    "y_train = to_categorical(y_train)\n",
    "y_train.shape"
   ]
  },
  {
   "cell_type": "code",
   "execution_count": 7,
   "metadata": {},
   "outputs": [],
   "source": [
    "X_train, X_val, y_train, y_val = train_test_split(X_train, y_train, test_size = 0.2)\n",
    "X_val, X_test, y_val, y_test = train_test_split(X_val, y_val, test_size = 0.5)"
   ]
  },
  {
   "cell_type": "markdown",
   "metadata": {},
   "source": [
    "### Building the Keras model"
   ]
  },
  {
   "cell_type": "code",
   "execution_count": 8,
   "metadata": {},
   "outputs": [
    {
     "data": {
      "text/plain": [
       "<keras.engine.sequential.Sequential at 0x1880e12eeb0>"
      ]
     },
     "execution_count": 8,
     "metadata": {},
     "output_type": "execute_result"
    }
   ],
   "source": [
    "model = tf.keras.models.Sequential([\n",
    "       \n",
    "    tf.keras.layers.Dense(256, input_shape=(10,), activation='relu'),\n",
    "    tf.keras.layers.BatchNormalization(),\n",
    "    tf.keras.layers.Dropout(0.3),\n",
    "    \n",
    "    tf.keras.layers.Dense(256, activation='relu'),\n",
    "    tf.keras.layers.BatchNormalization(),\n",
    "    tf.keras.layers.Dropout(0.3),\n",
    "    \n",
    "    tf.keras.layers.Dense(512, activation='relu'),\n",
    "    tf.keras.layers.BatchNormalization(),\n",
    "    tf.keras.layers.Dropout(0.5),\n",
    "            \n",
    "    tf.keras.layers.Dense(8, activation='softmax')\n",
    "])\n",
    "\n",
    "\n",
    "model.compile(loss='categorical_crossentropy',\n",
    "              optimizer=Adam(0.0001),\n",
    "              metrics=['acc'])\n",
    "\n",
    "model"
   ]
  },
  {
   "cell_type": "code",
   "execution_count": 9,
   "metadata": {},
   "outputs": [
    {
     "data": {
      "text/plain": [
       "(171, 8)"
      ]
     },
     "execution_count": 9,
     "metadata": {},
     "output_type": "execute_result"
    }
   ],
   "source": [
    "y_train.shape"
   ]
  },
  {
   "cell_type": "code",
   "execution_count": 10,
   "metadata": {},
   "outputs": [
    {
     "name": "stdout",
     "output_type": "stream",
     "text": [
      "Model: \"sequential\"\n",
      "_________________________________________________________________\n",
      " Layer (type)                Output Shape              Param #   \n",
      "=================================================================\n",
      " dense (Dense)               (None, 256)               2816      \n",
      "                                                                 \n",
      " batch_normalization (BatchN  (None, 256)              1024      \n",
      " ormalization)                                                   \n",
      "                                                                 \n",
      " dropout (Dropout)           (None, 256)               0         \n",
      "                                                                 \n",
      " dense_1 (Dense)             (None, 256)               65792     \n",
      "                                                                 \n",
      " batch_normalization_1 (Batc  (None, 256)              1024      \n",
      " hNormalization)                                                 \n",
      "                                                                 \n",
      " dropout_1 (Dropout)         (None, 256)               0         \n",
      "                                                                 \n",
      " dense_2 (Dense)             (None, 512)               131584    \n",
      "                                                                 \n",
      " batch_normalization_2 (Batc  (None, 512)              2048      \n",
      " hNormalization)                                                 \n",
      "                                                                 \n",
      " dropout_2 (Dropout)         (None, 512)               0         \n",
      "                                                                 \n",
      " dense_3 (Dense)             (None, 8)                 4104      \n",
      "                                                                 \n",
      "=================================================================\n",
      "Total params: 208,392\n",
      "Trainable params: 206,344\n",
      "Non-trainable params: 2,048\n",
      "_________________________________________________________________\n"
     ]
    }
   ],
   "source": [
    "model.summary()"
   ]
  },
  {
   "cell_type": "code",
   "execution_count": 11,
   "metadata": {},
   "outputs": [
    {
     "name": "stdout",
     "output_type": "stream",
     "text": [
      "Epoch 1/60\n",
      "29/29 [==============================] - 3s 22ms/step - loss: 2.8103 - acc: 0.1930 - val_loss: 2.0798 - val_acc: 0.0000e+00\n",
      "Epoch 2/60\n",
      "29/29 [==============================] - 0s 13ms/step - loss: 2.4878 - acc: 0.3158 - val_loss: 2.1012 - val_acc: 0.0000e+00\n",
      "Epoch 3/60\n",
      "29/29 [==============================] - 0s 8ms/step - loss: 2.1863 - acc: 0.3977 - val_loss: 2.1282 - val_acc: 0.0000e+00\n",
      "Epoch 4/60\n",
      "29/29 [==============================] - 0s 8ms/step - loss: 1.8931 - acc: 0.4152 - val_loss: 2.1465 - val_acc: 0.0000e+00\n",
      "Epoch 5/60\n",
      "29/29 [==============================] - 0s 13ms/step - loss: 1.9647 - acc: 0.4094 - val_loss: 2.1597 - val_acc: 0.0000e+00\n",
      "Epoch 6/60\n",
      "29/29 [==============================] - 0s 7ms/step - loss: 1.7565 - acc: 0.4444 - val_loss: 2.1839 - val_acc: 0.0000e+00\n",
      "Epoch 7/60\n",
      "29/29 [==============================] - 0s 13ms/step - loss: 1.7442 - acc: 0.4795 - val_loss: 2.2073 - val_acc: 0.0000e+00\n",
      "Epoch 8/60\n",
      "29/29 [==============================] - 0s 8ms/step - loss: 1.6510 - acc: 0.5146 - val_loss: 2.2029 - val_acc: 0.0000e+00\n",
      "Epoch 9/60\n",
      "29/29 [==============================] - 0s 8ms/step - loss: 1.6383 - acc: 0.5322 - val_loss: 2.1989 - val_acc: 0.3333\n",
      "Epoch 10/60\n",
      "29/29 [==============================] - 0s 8ms/step - loss: 1.6471 - acc: 0.5380 - val_loss: 2.1770 - val_acc: 0.3333\n",
      "Epoch 11/60\n",
      "29/29 [==============================] - 0s 9ms/step - loss: 1.7394 - acc: 0.5146 - val_loss: 2.1454 - val_acc: 0.3333\n",
      "Epoch 12/60\n",
      "29/29 [==============================] - 0s 13ms/step - loss: 1.6150 - acc: 0.4912 - val_loss: 2.1185 - val_acc: 0.3333\n",
      "Epoch 13/60\n",
      "29/29 [==============================] - 0s 8ms/step - loss: 1.2549 - acc: 0.5731 - val_loss: 2.0454 - val_acc: 0.3333\n",
      "Epoch 14/60\n",
      "29/29 [==============================] - 0s 8ms/step - loss: 1.5202 - acc: 0.5614 - val_loss: 1.9456 - val_acc: 0.3333\n",
      "Epoch 15/60\n",
      "29/29 [==============================] - 0s 13ms/step - loss: 1.4585 - acc: 0.5906 - val_loss: 1.7899 - val_acc: 0.3333\n",
      "Epoch 16/60\n",
      "29/29 [==============================] - 0s 9ms/step - loss: 1.1342 - acc: 0.6199 - val_loss: 1.7097 - val_acc: 0.3333\n",
      "Epoch 17/60\n",
      "29/29 [==============================] - 0s 10ms/step - loss: 1.4374 - acc: 0.5614 - val_loss: 1.6210 - val_acc: 0.3333\n",
      "Epoch 18/60\n",
      "29/29 [==============================] - 0s 7ms/step - loss: 1.4571 - acc: 0.5380 - val_loss: 1.4348 - val_acc: 0.3810\n",
      "Epoch 19/60\n",
      "29/29 [==============================] - 0s 13ms/step - loss: 1.1822 - acc: 0.6374 - val_loss: 1.2601 - val_acc: 0.4286\n",
      "Epoch 20/60\n",
      "29/29 [==============================] - 0s 8ms/step - loss: 1.0592 - acc: 0.6374 - val_loss: 1.0042 - val_acc: 0.4286\n",
      "Epoch 21/60\n",
      "29/29 [==============================] - 0s 8ms/step - loss: 1.3036 - acc: 0.6199 - val_loss: 0.7007 - val_acc: 0.7143\n",
      "Epoch 22/60\n",
      "29/29 [==============================] - 0s 6ms/step - loss: 1.2216 - acc: 0.6491 - val_loss: 0.5054 - val_acc: 0.9048\n",
      "Epoch 23/60\n",
      "29/29 [==============================] - 0s 9ms/step - loss: 1.5132 - acc: 0.5731 - val_loss: 0.3919 - val_acc: 0.9048\n",
      "Epoch 24/60\n",
      "29/29 [==============================] - 0s 14ms/step - loss: 1.1056 - acc: 0.6608 - val_loss: 0.3271 - val_acc: 0.9048\n",
      "Epoch 25/60\n",
      "29/29 [==============================] - 0s 8ms/step - loss: 1.1380 - acc: 0.6433 - val_loss: 0.2645 - val_acc: 0.9048\n",
      "Epoch 26/60\n",
      "29/29 [==============================] - 0s 9ms/step - loss: 1.0633 - acc: 0.6667 - val_loss: 0.2266 - val_acc: 0.9048\n",
      "Epoch 27/60\n",
      "29/29 [==============================] - 0s 13ms/step - loss: 1.1187 - acc: 0.6374 - val_loss: 0.2101 - val_acc: 0.9048\n",
      "Epoch 28/60\n",
      "29/29 [==============================] - 0s 8ms/step - loss: 1.1522 - acc: 0.6433 - val_loss: 0.2037 - val_acc: 0.9048\n",
      "Epoch 29/60\n",
      "29/29 [==============================] - 0s 14ms/step - loss: 1.0235 - acc: 0.6550 - val_loss: 0.1921 - val_acc: 0.9048\n",
      "Epoch 30/60\n",
      "29/29 [==============================] - 0s 14ms/step - loss: 1.0866 - acc: 0.6550 - val_loss: 0.1811 - val_acc: 0.9048\n",
      "Epoch 31/60\n",
      "29/29 [==============================] - 0s 8ms/step - loss: 1.2821 - acc: 0.5965 - val_loss: 0.1467 - val_acc: 1.0000\n",
      "Epoch 32/60\n",
      "29/29 [==============================] - 0s 6ms/step - loss: 0.9225 - acc: 0.6959 - val_loss: 0.1202 - val_acc: 0.9048\n",
      "Epoch 33/60\n",
      "29/29 [==============================] - 0s 6ms/step - loss: 0.8738 - acc: 0.6959 - val_loss: 0.1532 - val_acc: 0.9048\n",
      "Epoch 34/60\n",
      "29/29 [==============================] - 0s 9ms/step - loss: 1.0348 - acc: 0.6667 - val_loss: 0.2034 - val_acc: 0.9048\n",
      "Epoch 35/60\n",
      "29/29 [==============================] - 0s 8ms/step - loss: 0.9023 - acc: 0.7368 - val_loss: 0.1298 - val_acc: 1.0000\n",
      "Epoch 36/60\n",
      "29/29 [==============================] - 0s 7ms/step - loss: 0.9762 - acc: 0.6842 - val_loss: 0.1185 - val_acc: 1.0000\n",
      "Epoch 37/60\n",
      "29/29 [==============================] - 0s 13ms/step - loss: 1.1252 - acc: 0.6608 - val_loss: 0.1064 - val_acc: 0.9524\n",
      "Epoch 38/60\n",
      "29/29 [==============================] - 0s 6ms/step - loss: 1.0656 - acc: 0.6374 - val_loss: 0.0922 - val_acc: 1.0000\n",
      "Epoch 39/60\n",
      "29/29 [==============================] - 0s 7ms/step - loss: 1.0466 - acc: 0.6491 - val_loss: 0.1033 - val_acc: 1.0000\n",
      "Epoch 40/60\n",
      "29/29 [==============================] - 0s 9ms/step - loss: 0.8645 - acc: 0.6959 - val_loss: 0.1268 - val_acc: 1.0000\n",
      "Epoch 41/60\n",
      "29/29 [==============================] - 0s 9ms/step - loss: 1.2553 - acc: 0.6491 - val_loss: 0.1232 - val_acc: 1.0000\n",
      "Epoch 42/60\n",
      "29/29 [==============================] - 0s 8ms/step - loss: 0.9278 - acc: 0.6667 - val_loss: 0.1249 - val_acc: 0.9524\n",
      "Epoch 43/60\n",
      "29/29 [==============================] - 0s 7ms/step - loss: 1.1481 - acc: 0.6491 - val_loss: 0.1473 - val_acc: 1.0000\n",
      "Epoch 44/60\n",
      "29/29 [==============================] - 0s 14ms/step - loss: 0.9608 - acc: 0.6316 - val_loss: 0.1514 - val_acc: 0.9524\n",
      "Epoch 45/60\n",
      "29/29 [==============================] - 0s 8ms/step - loss: 1.0192 - acc: 0.6959 - val_loss: 0.1005 - val_acc: 1.0000\n",
      "Epoch 46/60\n",
      "29/29 [==============================] - 0s 9ms/step - loss: 1.1069 - acc: 0.6842 - val_loss: 0.1004 - val_acc: 1.0000\n",
      "Epoch 47/60\n",
      "29/29 [==============================] - 0s 9ms/step - loss: 1.0706 - acc: 0.6667 - val_loss: 0.1221 - val_acc: 0.9048\n",
      "Epoch 48/60\n",
      "29/29 [==============================] - 0s 9ms/step - loss: 0.9045 - acc: 0.6725 - val_loss: 0.1116 - val_acc: 1.0000\n",
      "Epoch 49/60\n",
      "29/29 [==============================] - 0s 8ms/step - loss: 0.8881 - acc: 0.7135 - val_loss: 0.1062 - val_acc: 0.9524\n",
      "Epoch 50/60\n",
      "29/29 [==============================] - 0s 7ms/step - loss: 0.8154 - acc: 0.7368 - val_loss: 0.0915 - val_acc: 0.9524\n",
      "Epoch 51/60\n",
      "29/29 [==============================] - 0s 8ms/step - loss: 0.7379 - acc: 0.7368 - val_loss: 0.1121 - val_acc: 1.0000\n",
      "Epoch 52/60\n",
      "29/29 [==============================] - 0s 7ms/step - loss: 0.6948 - acc: 0.7076 - val_loss: 0.0935 - val_acc: 0.9524\n",
      "Epoch 53/60\n",
      "29/29 [==============================] - 0s 14ms/step - loss: 0.6750 - acc: 0.8012 - val_loss: 0.0818 - val_acc: 1.0000\n",
      "Epoch 54/60\n",
      "29/29 [==============================] - 0s 10ms/step - loss: 0.7707 - acc: 0.7544 - val_loss: 0.0719 - val_acc: 1.0000\n",
      "Epoch 55/60\n",
      "29/29 [==============================] - 0s 8ms/step - loss: 0.7503 - acc: 0.7485 - val_loss: 0.0708 - val_acc: 1.0000\n",
      "Epoch 56/60\n",
      "29/29 [==============================] - 0s 8ms/step - loss: 0.9555 - acc: 0.6784 - val_loss: 0.0978 - val_acc: 0.9524\n",
      "Epoch 57/60\n",
      "29/29 [==============================] - 0s 13ms/step - loss: 0.9316 - acc: 0.7076 - val_loss: 0.1226 - val_acc: 0.9048\n",
      "Epoch 58/60\n",
      "29/29 [==============================] - 0s 7ms/step - loss: 0.9494 - acc: 0.7135 - val_loss: 0.1141 - val_acc: 1.0000\n",
      "Epoch 59/60\n",
      "29/29 [==============================] - 0s 7ms/step - loss: 0.7877 - acc: 0.7368 - val_loss: 0.1103 - val_acc: 1.0000\n",
      "Epoch 60/60\n",
      "29/29 [==============================] - 0s 9ms/step - loss: 0.8936 - acc: 0.7368 - val_loss: 0.1218 - val_acc: 1.0000\n"
     ]
    }
   ],
   "source": [
    "history = model.fit(X_train, y_train,\n",
    "                    epochs=60,\n",
    "                    batch_size=6,\n",
    "                    validation_data=(X_val, y_val),\n",
    "                    verbose=1,\n",
    "                   )"
   ]
  },
  {
   "cell_type": "markdown",
   "metadata": {},
   "source": [
    "#### Plotting the model accuracy"
   ]
  },
  {
   "cell_type": "code",
   "execution_count": 12,
   "metadata": {},
   "outputs": [
    {
     "data": {
      "image/png": "[encoded data removed]",
      "text/plain": [
       "<Figure size 432x288 with 1 Axes>"
      ]
     },
     "metadata": {
      "needs_background": "light"
     },
     "output_type": "display_data"
    }
   ],
   "source": [
    "plt.plot(history.history['acc'])\n",
    "plt.plot(history.history['val_acc'])\n",
    "plt.title('model accuracy')\n",
    "plt.ylabel('accuracy')\n",
    "plt.xlabel('epoch')\n",
    "plt.legend(['train', 'test'], loc='upper left')\n",
    "plt.show()"
   ]
  },
  {
   "cell_type": "markdown",
   "metadata": {},
   "source": [
    "### Model evaluation"
   ]
  },
  {
   "cell_type": "code",
   "execution_count": 13,
   "metadata": {},
   "outputs": [
    {
     "name": "stdout",
     "output_type": "stream",
     "text": [
      "1/1 [==============================] - 0s 23ms/step - loss: 0.5894 - acc: 0.9091\n"
     ]
    },
    {
     "data": {
      "text/plain": [
       "[0.5893828868865967, 0.9090909361839294]"
      ]
     },
     "execution_count": 13,
     "metadata": {},
     "output_type": "execute_result"
    }
   ],
   "source": [
    "model.evaluate(X_test, y_test)"
   ]
  },
  {
   "cell_type": "code",
   "execution_count": 14,
   "metadata": {},
   "outputs": [
    {
     "data": {
      "text/plain": [
       "array([[6, 0, 0, 0, 0, 0],\n",
       "       [0, 6, 1, 0, 0, 0],\n",
       "       [0, 0, 1, 0, 0, 0],\n",
       "       [0, 0, 0, 2, 0, 1],\n",
       "       [0, 0, 0, 0, 1, 0],\n",
       "       [0, 0, 0, 0, 0, 4]], dtype=int64)"
      ]
     },
     "execution_count": 14,
     "metadata": {},
     "output_type": "execute_result"
    }
   ],
   "source": [
    "y_pred = model.predict(X_test)\n",
    "y_pred_cl = np.argmax(y_pred, axis = 1)\n",
    "y_true = np.argmax(y_test, axis = 1)\n",
    "\n",
    "confusion_matrix(y_true, y_pred_cl)"
   ]
  },
  {
   "cell_type": "markdown",
   "metadata": {},
   "source": [
    "### Therefore, we can conclude that the Keras Sequential model has performed even better than the Random Forest Classifier model with a validation accuracy of 95.24% and a testing accuracy of 90.91%. Now we will save this model"
   ]
  },
  {
   "cell_type": "code",
   "execution_count": 16,
   "metadata": {},
   "outputs": [
    {
     "name": "stdout",
     "output_type": "stream",
     "text": [
      "INFO:tensorflow:Assets written to: D:\\New folder\\Glass Classification\\Model\\Keras model\\assets\n"
     ]
    }
   ],
   "source": [
    "model.save(r'D:\\New folder\\Glass Classification\\Model\\Keras model')"
   ]
  },
  {
   "cell_type": "code",
   "execution_count": null,
   "metadata": {},
   "outputs": [],
   "source": []
  }
 ],
 "metadata": {
  "kernelspec": {
   "display_name": "Python 3 (ipykernel)",
   "language": "python",
   "name": "python3"
  },
  "language_info": {
   "codemirror_mode": {
    "name": "ipython",
    "version": 3
   },
   "file_extension": ".py",
   "mimetype": "text/x-python",
   "name": "python",
   "nbconvert_exporter": "python",
   "pygments_lexer": "ipython3",
   "version": "3.9.8"
  }
 },
 "nbformat": 4,
 "nbformat_minor": 4
}
